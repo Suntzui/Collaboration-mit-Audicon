{
 "cells": [
  {
   "cell_type": "code",
   "execution_count": 1,
   "metadata": {},
   "outputs": [],
   "source": [
    "#Import von Modulen\n",
    "from luminol.anomaly_detector import AnomalyDetector\n",
    "import matplotlib.pylab as plt\n",
    "import matplotlib.ticker as plticker\n",
    "import pandas as pd"
   ]
  },
  {
   "cell_type": "code",
   "execution_count": 2,
   "metadata": {},
   "outputs": [
    {
     "data": {
      "text/html": [
       "<div>\n",
       "<style scoped>\n",
       "    .dataframe tbody tr th:only-of-type {\n",
       "        vertical-align: middle;\n",
       "    }\n",
       "\n",
       "    .dataframe tbody tr th {\n",
       "        vertical-align: top;\n",
       "    }\n",
       "\n",
       "    .dataframe thead th {\n",
       "        text-align: right;\n",
       "    }\n",
       "</style>\n",
       "<table border=\"1\" class=\"dataframe\">\n",
       "  <thead>\n",
       "    <tr style=\"text-align: right;\">\n",
       "      <th></th>\n",
       "      <th>Sales_Order</th>\n",
       "      <th>Date</th>\n",
       "      <th>Customer</th>\n",
       "      <th>Sales_Item</th>\n",
       "      <th>Material</th>\n",
       "      <th>Quantity</th>\n",
       "    </tr>\n",
       "  </thead>\n",
       "  <tbody>\n",
       "    <tr>\n",
       "      <th>0</th>\n",
       "      <td>50000515</td>\n",
       "      <td>2014-04-11</td>\n",
       "      <td>672787</td>\n",
       "      <td>500</td>\n",
       "      <td>1027651</td>\n",
       "      <td>10.0</td>\n",
       "    </tr>\n",
       "    <tr>\n",
       "      <th>1</th>\n",
       "      <td>50000518</td>\n",
       "      <td>2014-04-15</td>\n",
       "      <td>673506</td>\n",
       "      <td>510</td>\n",
       "      <td>1031171</td>\n",
       "      <td>10.0</td>\n",
       "    </tr>\n",
       "    <tr>\n",
       "      <th>2</th>\n",
       "      <td>50000529</td>\n",
       "      <td>2015-04-14</td>\n",
       "      <td>758484</td>\n",
       "      <td>430</td>\n",
       "      <td>1026281</td>\n",
       "      <td>10.0</td>\n",
       "    </tr>\n",
       "    <tr>\n",
       "      <th>3</th>\n",
       "      <td>50000537</td>\n",
       "      <td>2016-08-05</td>\n",
       "      <td>876855</td>\n",
       "      <td>330</td>\n",
       "      <td>1006534</td>\n",
       "      <td>4.0</td>\n",
       "    </tr>\n",
       "    <tr>\n",
       "      <th>4</th>\n",
       "      <td>50000550</td>\n",
       "      <td>2017-09-06</td>\n",
       "      <td>985518</td>\n",
       "      <td>260</td>\n",
       "      <td>1891110009</td>\n",
       "      <td>40.0</td>\n",
       "    </tr>\n",
       "  </tbody>\n",
       "</table>\n",
       "</div>"
      ],
      "text/plain": [
       "   Sales_Order       Date  Customer  Sales_Item    Material  Quantity\n",
       "0     50000515 2014-04-11    672787         500     1027651      10.0\n",
       "1     50000518 2014-04-15    673506         510     1031171      10.0\n",
       "2     50000529 2015-04-14    758484         430     1026281      10.0\n",
       "3     50000537 2016-08-05    876855         330     1006534       4.0\n",
       "4     50000550 2017-09-06    985518         260  1891110009      40.0"
      ]
     },
     "execution_count": 2,
     "metadata": {},
     "output_type": "execute_result"
    }
   ],
   "source": [
    "#Einlesen der Datensätze\n",
    "dataset = pd.read_excel('SalesOrders.xlsx')\n",
    "dataset.head()"
   ]
  },
  {
   "cell_type": "code",
   "execution_count": 3,
   "metadata": {},
   "outputs": [],
   "source": [
    "#Hilfe zur Interpretation von Daten\n",
    "def make_date_int(date):\n",
    "    date_parts = date.split('-')\n",
    "    year = int(date_parts[0]) * 10000\n",
    "    month =int(date_parts[1]) * 100\n",
    "    day = int(date_parts[2][:2])\n",
    "    return year + month + day"
   ]
  },
  {
   "cell_type": "code",
   "execution_count": 4,
   "metadata": {},
   "outputs": [],
   "source": [
    "#Integration von Power BI\n",
    "dataset_parts = dataset.to_dict('list')"
   ]
  },
  {
   "cell_type": "code",
   "execution_count": 5,
   "metadata": {},
   "outputs": [
    {
     "ename": "AttributeError",
     "evalue": "'Timestamp' object has no attribute 'split'",
     "output_type": "error",
     "traceback": [
      "\u001b[1;31m---------------------------------------------------------------------------\u001b[0m",
      "\u001b[1;31mAttributeError\u001b[0m                            Traceback (most recent call last)",
      "\u001b[1;32m<ipython-input-5-b6a3c3a667f2>\u001b[0m in \u001b[0;36m<module>\u001b[1;34m\u001b[0m\n\u001b[0;32m      1\u001b[0m \u001b[1;31m#Erstellen einer Liste von Integer Daten und Werten als Float\u001b[0m\u001b[1;33m\u001b[0m\u001b[1;33m\u001b[0m\u001b[1;33m\u001b[0m\u001b[0m\n\u001b[1;32m----> 2\u001b[1;33m \u001b[0mdates_to_int\u001b[0m \u001b[1;33m=\u001b[0m \u001b[0mlist\u001b[0m\u001b[1;33m(\u001b[0m\u001b[0mmap\u001b[0m\u001b[1;33m(\u001b[0m\u001b[0mmake_date_int\u001b[0m\u001b[1;33m,\u001b[0m \u001b[0mdataset_parts\u001b[0m\u001b[1;33m[\u001b[0m\u001b[1;34m'Date'\u001b[0m\u001b[1;33m]\u001b[0m\u001b[1;33m)\u001b[0m\u001b[1;33m)\u001b[0m\u001b[1;33m\u001b[0m\u001b[1;33m\u001b[0m\u001b[0m\n\u001b[0m\u001b[0;32m      3\u001b[0m \u001b[0mdata_for_detection\u001b[0m \u001b[1;33m=\u001b[0m \u001b[0mdict\u001b[0m\u001b[1;33m(\u001b[0m\u001b[0mzip\u001b[0m\u001b[1;33m(\u001b[0m\u001b[0mdates_to_int\u001b[0m\u001b[1;33m,\u001b[0m \u001b[0mdataset_parts\u001b[0m\u001b[1;33m[\u001b[0m\u001b[1;34m'Quantity'\u001b[0m\u001b[1;33m]\u001b[0m\u001b[1;33m)\u001b[0m\u001b[1;33m)\u001b[0m\u001b[1;33m\u001b[0m\u001b[1;33m\u001b[0m\u001b[0m\n",
      "\u001b[1;32m<ipython-input-3-01481897372e>\u001b[0m in \u001b[0;36mmake_date_int\u001b[1;34m(date)\u001b[0m\n\u001b[0;32m      1\u001b[0m \u001b[1;31m#Hilfe zur Interpretation von Daten\u001b[0m\u001b[1;33m\u001b[0m\u001b[1;33m\u001b[0m\u001b[1;33m\u001b[0m\u001b[0m\n\u001b[0;32m      2\u001b[0m \u001b[1;32mdef\u001b[0m \u001b[0mmake_date_int\u001b[0m\u001b[1;33m(\u001b[0m\u001b[0mdate\u001b[0m\u001b[1;33m)\u001b[0m\u001b[1;33m:\u001b[0m\u001b[1;33m\u001b[0m\u001b[1;33m\u001b[0m\u001b[0m\n\u001b[1;32m----> 3\u001b[1;33m     \u001b[0mdate_parts\u001b[0m \u001b[1;33m=\u001b[0m \u001b[0mdate\u001b[0m\u001b[1;33m.\u001b[0m\u001b[0msplit\u001b[0m\u001b[1;33m(\u001b[0m\u001b[1;34m'-'\u001b[0m\u001b[1;33m)\u001b[0m\u001b[1;33m\u001b[0m\u001b[1;33m\u001b[0m\u001b[0m\n\u001b[0m\u001b[0;32m      4\u001b[0m     \u001b[0myear\u001b[0m \u001b[1;33m=\u001b[0m \u001b[0mint\u001b[0m\u001b[1;33m(\u001b[0m\u001b[0mdate_parts\u001b[0m\u001b[1;33m[\u001b[0m\u001b[1;36m0\u001b[0m\u001b[1;33m]\u001b[0m\u001b[1;33m)\u001b[0m \u001b[1;33m*\u001b[0m \u001b[1;36m10000\u001b[0m\u001b[1;33m\u001b[0m\u001b[1;33m\u001b[0m\u001b[0m\n\u001b[0;32m      5\u001b[0m     \u001b[0mmonth\u001b[0m \u001b[1;33m=\u001b[0m\u001b[0mint\u001b[0m\u001b[1;33m(\u001b[0m\u001b[0mdate_parts\u001b[0m\u001b[1;33m[\u001b[0m\u001b[1;36m1\u001b[0m\u001b[1;33m]\u001b[0m\u001b[1;33m)\u001b[0m \u001b[1;33m*\u001b[0m \u001b[1;36m100\u001b[0m\u001b[1;33m\u001b[0m\u001b[1;33m\u001b[0m\u001b[0m\n",
      "\u001b[1;31mAttributeError\u001b[0m: 'Timestamp' object has no attribute 'split'"
     ]
    }
   ],
   "source": [
    "#Erstellen einer Liste von Integer Daten und Werten als Float\n",
    "dates_to_int = list(map(make_date_int, dataset_parts['Date']))\n",
    "data_for_detection = dict(zip(dates_to_int, dataset_parts['Quantity']))"
   ]
  },
  {
   "cell_type": "code",
   "execution_count": null,
   "metadata": {},
   "outputs": [],
   "source": [
    "#Kopie der Originaldaten\n",
    "base_preserved_dates = dict(zip(dataset_parts['Date'], \n",
    "                                dataset_parts['Quantity']))\n",
    "anomalies = AnomalyDetector(time_series=data_for_detection, \n",
    "                            score_threshold=2, \n",
    "                            algorithm_name='exp_avg_detector'\n",
    "                           ).get_anomalies()"
   ]
  },
  {
   "cell_type": "code",
   "execution_count": null,
   "metadata": {},
   "outputs": [],
   "source": [
    "#Extraktion der gefundenen Anomalien\n",
    "anomaly_dates = [int(x.start_timestamp) for x in anomalies]"
   ]
  },
  {
   "cell_type": "code",
   "execution_count": null,
   "metadata": {},
   "outputs": [],
   "source": [
    "#Erstellung der Grafik\n",
    "ordered_data = sorted(base_preserved_dates.items())\n",
    "xaxis, yaxis = zip(*ordered_data)\n",
    "fig, ax = plt.subplots()\n"
   ]
  },
  {
   "cell_type": "code",
   "execution_count": null,
   "metadata": {},
   "outputs": [],
   "source": [
    "#Anzeigen der Grafik\n",
    "plt.plot()\n",
    "for date in anomaly_dates:\n",
    "    highlight = data_for_detection[date]\n",
    "    timestamp_str = str(date)\n",
    "    timestamp = timestamp_str[:4] + '-' + timestamp_str[4:6] + '-' + timestamp_str[6:8] + 'T00:00:00.0000000'\n",
    "    plt.plot(timestamp, highlight, 'ro')"
   ]
  },
  {
   "cell_type": "code",
   "execution_count": null,
   "metadata": {},
   "outputs": [],
   "source": [
    "#Anpassung der x-Achse\n",
    "loc = plticker.MultipleLocator(base=25.0)\n",
    "ax.xaxis.set_major_locator(loc)\n",
    "ax.get_xaxis().set_major_formatter(plticker.FuncFormatter(lambda x, p: xaxis[int(x)][:10] if int(x) < len(xaxis) else \"\"))\n",
    "plt.show()"
   ]
  }
 ],
 "metadata": {
  "kernelspec": {
   "display_name": "Python 3",
   "language": "python",
   "name": "python3"
  },
  "language_info": {
   "codemirror_mode": {
    "name": "ipython",
    "version": 3
   },
   "file_extension": ".py",
   "mimetype": "text/x-python",
   "name": "python",
   "nbconvert_exporter": "python",
   "pygments_lexer": "ipython3",
   "version": "3.7.3"
  }
 },
 "nbformat": 4,
 "nbformat_minor": 2
}
